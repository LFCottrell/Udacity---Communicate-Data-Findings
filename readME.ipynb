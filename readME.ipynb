{
 "cells": [
  {
   "cell_type": "markdown",
   "metadata": {},
   "source": [
    "# Ford Go Bike Exploration\n",
    "## by Liam Cottrell\n",
    "\n",
    "\n",
    "## Dataset\n",
    "\n",
    "> In this project I explored the 'FordGoBike' dataset, which contained information on Ford's Go Bikes' travel data in the month of February, 2019. The scheme was established in August 2013 as 'Bay Area Bike Share', before Ford's partnership led to the 'Ford Go Bike' brand in June 2017. It retained this name until July 2019, when it took its current name, 'Bay Wheels'. It is the first regional and large-scale bicycle sharing system deployed in California and on the West Coast of the United States and as of January 2018, the system had over 2,600 bicycles in 262 stations across San Francisco, East Bay and San Jose.\n",
    "\n",
    "> The dataset was provided in csv format by Udacity, and required only a few wrangling processes in order to proceed. \n",
    "- Firstly the majority of the columns needed their data type changed, as the time columns were not in datetime format and most of the string columns were actually categories, which needed changing for ease of visualization. \n",
    "- I also had to create a start hour and start day column from the start time column, as this would be easier to view graphically and far more insightful.\n",
    "- I needed to remove the rows with null values, present in the 'member_birth_year' and 'start_station_name' columns.\n",
    "- The small subset of recordings for the very eldest in the group seemed to contain a lot outliers. I chose the age of 80 as a cut off point and removed the outliers from the dataset.\n",
    "\n",
    "## Summary of Findings\n",
    "\n",
    "> From exploring the dataset, I discovered that:\n",
    "- The dataset was made up mostly of men. These men on average also seemed to ride for slightly lower durations than women on average. The category 'Other' surprisingly comprised of many of the extremely long duration cycles and as a result, had a mean value higher than women, despite having a similar median and quartiles. \n",
    "- The majority of the dataset comprised of solo bicyclists as opposed to bike sharers, who seemingly had to be subscribers in order to bike share. People who bike shared rode for slightly shorter durations, especially outside of rush hours.\n",
    "- The dataset comprised mostly of people between the ages of 25 and 40. Older people above 50 were not as well represented in the dataset, but a greater proportion of them seemed to enjoy longer durations of cycles, whilst the 25-40 year olds seemed to ride on average for shorter durations, mostly due to their frequent, short rides to work.\n",
    "- Cycling durations massively increased on weekends despite the frequency of cycling decreasing during this time. This was mainly due to cycling being used as a form of leisure rather than a means of cycling to work, as it was during the week.\n",
    "- The duration of cycling for customers was much longer than it was for subscribers, in part due to the fact that that subscribers used the service as means of getting to work more frequently.\n",
    "\n",
    "## Key Insights for Presentation\n",
    "\n",
    "- The most important factor to consider when it comes to cycle duration is the time of cycling, and more specifically whether it is rush hour. The bikes are used most commonly during rush hour, and this corresponds with short cycling times. The subscribers correlate with people cycling to work, which in turn correlates with shorter cycling durations, which is the opposite of what I expected.\n",
    "- Leisure"
   ]
  }
 ],
 "metadata": {
  "kernelspec": {
   "display_name": "Python 3",
   "language": "python",
   "name": "python3"
  },
  "language_info": {
   "codemirror_mode": {
    "name": "ipython",
    "version": 3
   },
   "file_extension": ".py",
   "mimetype": "text/x-python",
   "name": "python",
   "nbconvert_exporter": "python",
   "pygments_lexer": "ipython3",
   "version": "3.8.5"
  }
 },
 "nbformat": 4,
 "nbformat_minor": 4
}
